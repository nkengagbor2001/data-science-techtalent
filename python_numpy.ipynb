{
 "cells": [
  {
   "cell_type": "code",
   "execution_count": 2,
   "metadata": {},
   "outputs": [],
   "source": [
    "import numpy as np"
   ]
  },
  {
   "cell_type": "markdown",
   "metadata": {},
   "source": [
    "## Project 1 "
   ]
  },
  {
   "cell_type": "code",
   "execution_count": 8,
   "metadata": {},
   "outputs": [
    {
     "name": "stdout",
     "output_type": "stream",
     "text": [
      "Array from 0 to 9:\n",
      "[0 1 2 3 4 5 6 7 8 9]\n"
     ]
    }
   ],
   "source": [
    "# 1.\tCreate a 1D array of numbers from 0 to 9\n",
    "\n",
    "x = np.arange(10)\n",
    "print(\"Array from 0 to 9:\")\n",
    "print(x)\n"
   ]
  },
  {
   "cell_type": "code",
   "execution_count": 9,
   "metadata": {},
   "outputs": [
    {
     "name": "stdout",
     "output_type": "stream",
     "text": [
      "New Array from 0 to 9:\n",
      "[[0 1 2 3 4]\n",
      " [5 6 7 8 9]]\n"
     ]
    }
   ],
   "source": [
    "# 2.\tConvert a 1D array to a 2D array with 2 rows\n",
    "x = np.arange(10)\n",
    "new_x = x.reshape (2,5)\n",
    "print(\"New Array from 0 to 9:\")\n",
    "print(new_x)"
   ]
  },
  {
   "cell_type": "code",
   "execution_count": null,
   "metadata": {},
   "outputs": [],
   "source": [
    "# 3.\tWrite a NumPy program to create an array of the integers from 30 to 70.\n",
    "x = np.arange(30, 70)\n",
    "print(\"Array from 30 to 70:\")\n",
    "print(x)"
   ]
  },
  {
   "cell_type": "code",
   "execution_count": 11,
   "metadata": {},
   "outputs": [
    {
     "name": "stdout",
     "output_type": "stream",
     "text": [
      "This is the Original array:\n",
      "[15, 25, 35]\n",
      "\n",
      "After append values to the end of the array:\n",
      "[15 25 35 45 55 65 75 85 95]\n"
     ]
    }
   ],
   "source": [
    "# 4.\tWrite a NumPy program to append values to the end of an array.\n",
    "\n",
    "x = [15, 25, 35]\n",
    "print(\"This is the Original array:\")\n",
    "print(x)\n",
    "\n",
    "x = np.append(x, [[45, 55, 65], [75, 85, 95]])\n",
    "print(\"\\nAfter append values to the end of the array:\")\n",
    "print(x)"
   ]
  },
  {
   "cell_type": "markdown",
   "metadata": {},
   "source": [
    "## Project 1 Extension"
   ]
  },
  {
   "cell_type": "code",
   "execution_count": 14,
   "metadata": {},
   "outputs": [
    {
     "name": "stdout",
     "output_type": "stream",
     "text": [
      "Original matrix:\n",
      "[[ 0  1  2  3  4]\n",
      " [ 5  6  7  8  9]\n",
      " [10 11 12 13 14]\n",
      " [15 16 17 18 19]]\n",
      "\n",
      "Number of rows and columns of the said matrix:\n",
      "(4, 5)\n"
     ]
    }
   ],
   "source": [
    "#1.\tWrite a NumPy program to find the number of rows and columns of a given matrix.\n",
    "m= np.arange(20).reshape((4, 5))\n",
    "print(\"Original matrix:\")\n",
    "print(m)\n",
    "print(\"\\nNumber of rows and columns of the said matrix:\")\n",
    "print(m.shape)"
   ]
  },
  {
   "cell_type": "code",
   "execution_count": 15,
   "metadata": {},
   "outputs": [
    {
     "name": "stdout",
     "output_type": "stream",
     "text": [
      "Array of all the even integers from 30 to 70\n",
      "[30 32 34 36 38 40 42 44 46 48 50 52 54 56 58 60 62 64 66 68 70]\n"
     ]
    }
   ],
   "source": [
    "#2.\tWrite a NumPy program to create an array of all the even integers from 30 to 70.\n",
    "array=np.arange(30,71,2)\n",
    "print(\"Array of all the even integers from 30 to 70\")\n",
    "print(array)"
   ]
  },
  {
   "cell_type": "code",
   "execution_count": 18,
   "metadata": {},
   "outputs": [
    {
     "name": "stdout",
     "output_type": "stream",
     "text": [
      "List to array: \n",
      "[0 1 2 3 4 5 6 7 8 9]\n",
      "\n",
      "Tuple to array: \n",
      "[[8 6 5 4]\n",
      " [0 1 2 3]]\n"
     ]
    }
   ],
   "source": [
    "#3.\tWrite a NumPy program to convert a list and tuple into arrays.\n",
    "\n",
    "my_list = [0, 1, 2, 3, 4, 5, 6, 7, 8, 9]\n",
    "print(\"List to array: \")\n",
    "print(np.asarray(my_list))\n",
    "my_tuple = ([8, 6, 5, 4], [0, 1, 2, 3])\n",
    "print(\"\\nTuple to array: \")\n",
    "print(np.asarray(my_tuple))"
   ]
  },
  {
   "cell_type": "code",
   "execution_count": 20,
   "metadata": {},
   "outputs": [
    {
     "name": "stdout",
     "output_type": "stream",
     "text": [
      "Original array:\n",
      "[(b'James', 5, 48.5 ) (b'Randolf', 6, 52.5 ) (b'Paul', 5, 42.1 )\n",
      " (b'Peter', 5, 40.11)]\n",
      "\n",
      "Sort by height\n",
      "[(b'Peter', 5, 40.11) (b'Paul', 5, 42.1 ) (b'James', 5, 48.5 )\n",
      " (b'Randolf', 6, 52.5 )]\n"
     ]
    }
   ],
   "source": [
    "#4.\tWrite a NumPy program to create a structured array from given student name, height, class and their data types.  \n",
    "\n",
    "data_type = [('name', 'S15'), ('class', int), ('height', float)]\n",
    "students_details = [('James', 5, 48.5), ('Randolf', 6, 52.5),('Paul', 5, 42.10), ('Peter', 5, 40.11)]\n",
    "\n",
    "# Create a structured array\n",
    "students = np.array(students_details, dtype=data_type)   \n",
    "print(\"Original array:\")\n",
    "print(students)\n",
    "print(\"\\nSort by height\")\n",
    "print(np.sort(students, order='height')) "
   ]
  },
  {
   "cell_type": "markdown",
   "metadata": {},
   "source": [
    "## Task 2: Mathematics"
   ]
  },
  {
   "cell_type": "code",
   "execution_count": 22,
   "metadata": {},
   "outputs": [
    {
     "name": "stdout",
     "output_type": "stream",
     "text": [
      "Add:\n",
      "7.0\n",
      "\n",
      "Subtract:\n",
      "7.0\n",
      "\n",
      "Multiply:\n",
      "8.0\n",
      "\n",
      "Divide:\n",
      "7.5\n"
     ]
    }
   ],
   "source": [
    "# 1.\tWrite a NumPy program to add, subtract, multiply, divide arguments elementwise.\n",
    "print(\"Add:\")\n",
    "print(np.add(1.0, 6.0))\n",
    "print(\"\\nSubtract:\")\n",
    "print(np.subtract(9.0, 2.0))\n",
    "print(\"\\nMultiply:\")\n",
    "print(np.multiply(1.0, 8.0))\n",
    "print(\"\\nDivide:\")\n",
    "print(np.divide(15.0, 2.0))"
   ]
  },
  {
   "cell_type": "code",
   "execution_count": 24,
   "metadata": {},
   "outputs": [
    {
     "name": "stdout",
     "output_type": "stream",
     "text": [
      "Original array:\n",
      "[0.81 1.55 1.74 2.86 4.55 6.9  9.07]\n",
      "\n",
      "Round elements of the array to the nearest integer:\n",
      "[1. 2. 2. 3. 5. 7. 9.]\n"
     ]
    }
   ],
   "source": [
    "# 2.\tWrite a NumPy program to round elements of the array to the nearest integer.\n",
    "\n",
    "x = np.array([0.81, 1.55, 1.74, 2.86, 4.55, 6.90, 9.07])\n",
    "print(\"Original array:\")\n",
    "print(x)\n",
    "x = np.rint(x)\n",
    "print(\"\\nRound elements of the array to the nearest integer:\")\n",
    "print(x)"
   ]
  },
  {
   "cell_type": "code",
   "execution_count": 28,
   "metadata": {},
   "outputs": [
    {
     "name": "stdout",
     "output_type": "stream",
     "text": [
      "Original array:\n",
      "[ 0  1  2  3  4  5  6  7  8  9 10 11 12 13 14 15 16 17 18 19 20 21 22 23\n",
      " 24]\n",
      "\n",
      "Division of the array inputs, element-wise:\n",
      "[0.  0.2 0.4 0.6 0.8 1.  1.2 1.4 1.6 1.8 2.  2.2 2.4 2.6 2.8 3.  3.2 3.4\n",
      " 3.6 3.8 4.  4.2 4.4 4.6 4.8]\n"
     ]
    }
   ],
   "source": [
    "# 3.\tWrite a NumPy program to get true division of the element-wise array inputs.\n",
    "\n",
    "x = np.arange(25)\n",
    "print(\"Original array:\")\n",
    "print(x)\n",
    "print(\"\\nDivision of the array inputs, element-wise:\")\n",
    "print(np.true_divide(x, 5))"
   ]
  },
  {
   "cell_type": "markdown",
   "metadata": {},
   "source": [
    "## ## Task 2: Mathematics Extension"
   ]
  },
  {
   "cell_type": "code",
   "execution_count": 30,
   "metadata": {},
   "outputs": [
    {
     "name": "stdout",
     "output_type": "stream",
     "text": [
      "First array:\n",
      "[[0.56203987 0.44586578 0.19978299]\n",
      " [0.58336625 0.81514288 0.9985518 ]\n",
      " [0.39372815 0.83976241 0.01902133]\n",
      " [0.31372904 0.64763756 0.64312654]\n",
      " [0.77780001 0.32581585 0.42906518]]\n",
      "\n",
      "Second array:\n",
      "[[0.95001857 0.96244879]\n",
      " [0.5625843  0.76621719]\n",
      " [0.10729093 0.00477054]]\n",
      "\n",
      "The product of the two arrays:\n",
      "[[0.80622031 0.8835177 ]\n",
      " [1.11993091 1.19080026]\n",
      " [0.84852702 1.02247432]\n",
      " [0.73140078 0.80124723]\n",
      " [0.96825813 1.00028525]]\n"
     ]
    }
   ],
   "source": [
    "# 1.\tWrite a NumPy program to multiply a 5x3 matrix by a 3x2 matrix and create a real matrix product.\n",
    "\n",
    "x = np.random.random((5,3))\n",
    "print(\"First array:\")\n",
    "print(x)\n",
    "y = np.random.random((3,2))\n",
    "print(\"\\nSecond array:\")\n",
    "print(y)\n",
    "z = np.dot(x, y)\n",
    "print(\"\\nThe product of the two arrays:\")\n",
    "print(z)"
   ]
  },
  {
   "cell_type": "code",
   "execution_count": 31,
   "metadata": {},
   "outputs": [
    {
     "name": "stdout",
     "output_type": "stream",
     "text": [
      "The Average of the array elements:\n",
      "0.010523701741711177\n",
      "\n",
      "The Standard deviation of the array elements:\n",
      "1.0019855080799527\n",
      "\n",
      "The Variance of the array elements:\n",
      "1.003974958402241\n"
     ]
    }
   ],
   "source": [
    "# 2.\tWrite a NumPy program to create a random array with 1000 elements and compute the average, variance, standard deviation of the array elements.\n",
    "\n",
    "x = np.random.randn(1000)\n",
    "print(\"The Average of the array elements:\")\n",
    "mean = x.mean()\n",
    "print(mean)\n",
    "print(\"\\nThe Standard deviation of the array elements:\")\n",
    "std = x.std()\n",
    "print(std)\n",
    "print(\"\\nThe Variance of the array elements:\")\n",
    "var = x.var()\n",
    "print(var)"
   ]
  },
  {
   "cell_type": "code",
   "execution_count": 32,
   "metadata": {},
   "outputs": [
    {
     "name": "stdout",
     "output_type": "stream",
     "text": [
      "Original array: \n",
      "[2.1 4.5 6.5 3.9 4.1 5.5 7.9]\n",
      "\n",
      "around:    [2. 4. 6. 4. 4. 6. 8.]\n",
      "floor:     [2. 4. 6. 3. 4. 5. 7.]\n",
      "ceil:      [3. 5. 7. 4. 5. 6. 8.]\n",
      "trunc:     [2. 4. 6. 3. 4. 5. 7.]\n",
      "round:     [2, 4, 6, 4, 4, 6, 8]\n"
     ]
    }
   ],
   "source": [
    "# 3.\tWrite a NumPy program to calculate round, floor, ceiling, truncated and round (to the given number of decimals) of the input, elementwise of a given array.\n",
    "x = np.array([2.1, 4.5, 6.5, 3.9, 4.1, 5.5, 7.9])\n",
    "print(\"Original array: \")\n",
    "print(x)\n",
    "r1 = np.round(x)\n",
    "r2 = np.floor(x)\n",
    "r3 = np.ceil(x)\n",
    "r4 = np.trunc(x)\n",
    "r5 = [round(elem) for elem in x]\n",
    "\n",
    "print(\"\\naround:   \", r1)\n",
    "print(\"floor:    \",r2)\n",
    "print(\"ceil:     \",r3)\n",
    "print(\"trunc:    \",r4)\n",
    "print(\"round:    \",r5)"
   ]
  },
  {
   "cell_type": "code",
   "execution_count": 35,
   "metadata": {},
   "outputs": [
    {
     "name": "stdout",
     "output_type": "stream",
     "text": [
      "Original flattened or 1D array:\n",
      "[[0 1]\n",
      " [2 3]]\n",
      "\n",
      "The Maximum value of the above flattened or 1D array:\n",
      "3\n",
      "\n",
      "The Minimum value of the above flattened or 1D array:\n",
      "0\n"
     ]
    }
   ],
   "source": [
    "# 4.\tWrite a Python program to find the maximum and minimum value of 1D array.\n",
    "\n",
    "a = np.arange(4).reshape((2,2))\n",
    "print(\"Original flattened or 1D array:\")\n",
    "print(a)\n",
    "print(\"\\nThe Maximum value of the above flattened or 1D array:\")\n",
    "print(np.amax(a))\n",
    "print(\"\\nThe Minimum value of the above flattened or 1D array:\")\n",
    "print(np.amin(a))"
   ]
  },
  {
   "cell_type": "markdown",
   "metadata": {},
   "source": [
    "## Optional task: Connecting Python and SQL"
   ]
  },
  {
   "cell_type": "code",
   "execution_count": 4,
   "metadata": {},
   "outputs": [],
   "source": [
    "# Using the example code to help you, connect SQL to Python and complete the following tasks. Use the NumPy library to complete the following calculations.\n",
    "\n",
    "import mysql.connector #Used for connecting to SQL\n",
    "import numpy as np\n",
    "\n",
    "db_connection = mysql.connector.connect(\n",
    "\n",
    "host=\"localhost\", user=\"sqluser\", passwd=\"password\" , database=\"uni\")   #connect to database"
   ]
  }
 ],
 "metadata": {
  "kernelspec": {
   "display_name": "Python 3.10.6 64-bit",
   "language": "python",
   "name": "python3"
  },
  "language_info": {
   "codemirror_mode": {
    "name": "ipython",
    "version": 3
   },
   "file_extension": ".py",
   "mimetype": "text/x-python",
   "name": "python",
   "nbconvert_exporter": "python",
   "pygments_lexer": "ipython3",
   "version": "3.10.6"
  },
  "orig_nbformat": 4,
  "vscode": {
   "interpreter": {
    "hash": "0dc75d5386c1c577a918647459b2c5f77d05fad1c3065f89b6d0b6bd0996f76f"
   }
  }
 },
 "nbformat": 4,
 "nbformat_minor": 2
}
