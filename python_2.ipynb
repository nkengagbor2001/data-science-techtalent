{
 "cells": [
  {
   "cell_type": "markdown",
   "metadata": {},
   "source": [
    "## Task 1:\tCalculator"
   ]
  },
  {
   "cell_type": "code",
   "execution_count": 58,
   "metadata": {},
   "outputs": [
    {
     "name": "stdout",
     "output_type": "stream",
     "text": [
      "20  *  30  =  600\n"
     ]
    }
   ],
   "source": [
    "#Write a program that allows user to enter two numbers, and operator and then completes the calculation.\n",
    "\n",
    "number1 = int(input(\"Enter a number:\"))\n",
    "number2 = int(input(\"Enter a second number:\"))\n",
    "operator = input(\"Enter a operator of choice:\")\n",
    "\n",
    "if operator == '+':    \n",
    "   print (number1, \" + \", number2, \" = \", (number1 + number2))    # Addition of numbers\n",
    "elif operator == '-':    \n",
    "   print (number1, \" - \", number2, \" = \", (number1 - number2))    # Subtraction of numbers\n",
    "elif operator == '*':    \n",
    "   print (number1, \" * \", number2, \" = \", (number1 * number2))    # Multiplication of numbers\n",
    "elif operator == '/':    \n",
    "   print (number1, \" / \", number2, \" = \", (number1 / number2))    # Division of numbers\n",
    "else:    \n",
    "   print (\"This is an invalid input\")  "
   ]
  },
  {
   "cell_type": "markdown",
   "metadata": {},
   "source": [
    "## Task 2: Joke Display"
   ]
  },
  {
   "cell_type": "code",
   "execution_count": 59,
   "metadata": {},
   "outputs": [
    {
     "name": "stdout",
     "output_type": "stream",
     "text": [
      "Why does Humpty Dumpty love autumn?\n",
      "Because Humpty Dumpty had a great fall.\n"
     ]
    }
   ],
   "source": [
    "#Write a program that asks a user for their favourite number between 1 and 100 and then tells them a joke based on the number. You should use a minimum of 3 jokes\n",
    "\n",
    "number = int(input(\"Enter a number between 1 and 100\"))\n",
    "\n",
    "if number == 1:\n",
    "    print(\"What's red and moves up and down?\\nA tomato in an elevator!\") # Returns a joke when the number 1 is entered\n",
    "elif number == 2:\n",
    "    print(\"Why are ghosts such bad liars?\\nBecause they are easy to see through.\") # Returns a joke when the number 2 is entered\n",
    "elif number == 3:\n",
    "    print(\"What do you call a pony with a cough?\\nA little horse!\") # Returns a joke when the number 3 is entered\n",
    "elif number == 4:\n",
    "    print(\"What is sticky and brown?\\nA stick!\") # Returns a joke when the number 4 is entered\n",
    "elif number == 5:\n",
    "    print(\"How does a rabbi make coffee?\\nHebrews it!\") # Returns a joke when the number 5 is entered\n",
    "elif number == 6:\n",
    "    print(\"How do you throw a space party?\\nYou planet!\") # Returns a joke when the number 6 is entered\n",
    "elif number == 7:\n",
    "    print(\"Want to hear a construction joke?\\nOh never mind, I'm still working on that one.\") # Returns a joke when the number 7 is entered\n",
    "elif number == 8:\n",
    "    print(\"Why don't scientists trust atoms?\\nBecause they make up everything!\") # Returns a joke when the number 8 is entered\n",
    "elif number == 9:\n",
    "    print(\"Talk is cheap?\\nHave you ever talked to a lawyer?\") # Returns a joke when the number 9 is entered\n",
    "elif number == 10:\n",
    "    print(\"Why did the gym close down?\\nIt just didn't work out!\") # Returns a joke when the number 10 is entered\n",
    "elif number == 11:\n",
    "    print(\"What is a plateau?\\nIt is the highest form of flattery.\") # Returns a joke when the number 11 is entered\n",
    "elif number == 12:\n",
    "    print(\"I have a fear of speed bumps.\\nBut I am slowly getting over it.\") # Returns a joke when the number 12 is entered\n",
    "elif number == 13:\n",
    "    print(\"You know what I saw today?\\nEverything I looked at.\") # Returns a joke when the number 13 is entered\n",
    "elif number == 14:\n",
    "    print(\"What did the blanket say when it fell off the bed?\\nOh sheet!\") # Returns a joke when the number 14 is entered\n",
    "elif number == 15:\n",
    "    print(\"Did you hear about the claustrophobic astronaut?\\nHe just needed a little space.\") # Returns a joke when the number 15 is entered\n",
    "elif number == 16:\n",
    "    print(\"What did the left eye say to the right eye?\\nBetween you and me, something smells.\") # Returns a joke when the number 16 is entered\n",
    "elif number == 17:\n",
    "    print(\"What did the shark say when he ate the clownfish?\\nThis tastes a little funny.\") # Returns a joke when the number 17 is entered\n",
    "elif number == 18:\n",
    "    print(\"Why couldn’t the leopard play hide and seek?\\nBecause he was always spotted.\") # Returns a joke when the number 18 is entered\n",
    "elif number == 19:\n",
    "    print(\"Can February march?\\nNo, but April may.\") # Returns a joke when the number 19 is entered\n",
    "elif number == 20:\n",
    "    print(\"Why does Humpty Dumpty love autumn?\\nBecause Humpty Dumpty had a great fall.\") # Returns a joke when the number 20 is entered\n",
    "elif number >= 21 and number < 100:\n",
    "    print(\"Sorry no joke for you today.\\nHey wait, try this...!!!!!\\nWhat does the ocean do when it sees its friends?\\nWaves!\") # Returns this joke when any number greater that (>) 20  or less that (<) 100 is entered\n",
    "else:\n",
    "    print(\"Sorry, that was an invalid entry\") # Returns this when a number greater than (>) 100 is entered"
   ]
  },
  {
   "cell_type": "markdown",
   "metadata": {},
   "source": [
    "## Task 3: ATM"
   ]
  },
  {
   "cell_type": "code",
   "execution_count": 57,
   "metadata": {},
   "outputs": [
    {
     "name": "stdout",
     "output_type": "stream",
     "text": [
      "\n",
      "Welcome to Northern Frock. \n",
      "What would you like to do?\n",
      "\n",
      "Main Menu Options:\n",
      "1 - Display balance\n",
      "2 - Withdraw funds\n",
      "3 - Deposit funds\n",
      "9 - Return card\n",
      "\n",
      "\n",
      "Select withdrawal amount \n",
      "1 - £10 \n",
      "2 - £20 \n",
      "3 - £40 \n",
      "4 - £60 \n",
      "5 - £80 \n",
      "6 - £100 \n",
      "7 - Other amount \n",
      "8 - Return to main menu\n",
      "\n",
      "Your have withdrawn £ 60 \n",
      "Your current balance is 940 \n",
      "\n",
      "\n",
      "Main Menu Options:\n",
      "1 - Display balance\n",
      "2 - Withdraw funds\n",
      "3 - Deposit funds\n",
      "9 - Return card\n",
      "\n",
      "\n",
      "Select withdrawal amount \n",
      "1 - £10 \n",
      "2 - £20 \n",
      "3 - £40 \n",
      "4 - £60 \n",
      "5 - £80 \n",
      "6 - £100 \n",
      "7 - Other amount \n",
      "8 - Return to main menu\n",
      "\n",
      "\n",
      "Main Menu Options:\n",
      "1 - Display balance\n",
      "2 - Withdraw funds\n",
      "3 - Deposit funds\n",
      "9 - Return card\n",
      "\n",
      "\n",
      "Thank you for using Northern Frock. \n",
      "Goodbye\n",
      "\n"
     ]
    }
   ],
   "source": [
    "#Main Menu (Please try this code on https://www.online-python.com/ and see how it works there)\n",
    "\n",
    "#Welcome to Northern Frock\n",
    "# Welcome message for user.\n",
    "print(\"\\nWelcome to Northern Frock. \\nWhat would you like to do?\")\n",
    "\n",
    "# Set an initial value for mainoption other than the value for 'quit' or 'return card'.\n",
    "mainoption = ''\n",
    "amount = 1000\n",
    "\n",
    "# Start a loop that runs until the user enters the value for 'quit' or 'return card'.\n",
    "while mainoption != 9:\n",
    "\t# Display the Main menu\n",
    "\tprint(\"\\nMain Menu Options:\")\n",
    "\tprint(\"1 - Display balance\")\n",
    "\tprint(\"2 - Withdraw funds\")\n",
    "\tprint(\"3 - Deposit funds\")\n",
    "\tprint(\"9 - Return card\\n\")\n",
    "\t\n",
    "\t#Ask for the user's choice from the Menu\n",
    "\tmainoption = int(input(\"Select Option between: 1, 2, 3 and 9\"))\n",
    "\t\n",
    "\t#Respond to the user's choice from the menu and return to main menu\n",
    "\tif mainoption == 1:\n",
    "\t    print(\"\\nYour Current balance is £\", amount, \"\\nThe maximum amount available for withdrawal is £250\\n\") #Print of current balance and maximum withdrawal amount and returns to main menu.\n",
    "\t#If 2 is entered as an option,  the sub-menu for withdrawal amounts is printed then user given a withdrawal input.\n",
    "\telif mainoption == 2:\n",
    "\t    print(\"\\nSelect withdrawal amount\", \"\\n1 - £10\", \"\\n2 - £20\", \"\\n3 - £40\", \"\\n4 - £60\", \"\\n5 - £80\", \"\\n6 - £100\", \"\\n7 - Other amount\", \"\\n8 - Return to main menu\\n\") # Print withdrawal amount to select.\n",
    "\t    \n",
    "\t    #Provide user with options to input withdrawal amount\n",
    "\t    withdraw = int(input(\"Select withdrawal amount between: 1, 2, 3, 4, 5, 6, 7 and 8\"))\n",
    "\t        # Print withdrawal amount and balance after withdrawal for entry from 1 to 6.\n",
    "\t    if withdraw == 1:\n",
    "\t       print(\"Your have withdrawn £\", 10, \"\\nYour current balance is £\", int(amount - 10), \"\\n\")\n",
    "\t    elif withdraw == 2:\n",
    "\t       print(\"Your have withdrawn £\", 20, \"\\nYour current balance is £\", int(amount - 20), \"\\n\")\n",
    "\t    elif withdraw == 3:\n",
    "\t       print(\"Your have withdrawn £\", 40, \"\\nYour current balance is\", int(amount - 40), \"\\n\")\n",
    "\t    elif withdraw == 4:\n",
    "\t       print(\"Your have withdrawn £\", 60, \"\\nYour current balance is\", int(amount - 60), \"\\n\")\n",
    "\t    elif withdraw == 5:\n",
    "\t       print(\"Your have withdrawn £\", 80, \"\\nYour current balance is\", int(amount - 80), \"\\n\")\n",
    "\t    elif withdraw == 6:\n",
    "\t       print(\"Your have withdrawn £\", 100, \"\\nYour current balance is\", int(amount - 100), \"\\n\")\n",
    "\t   \n",
    "\t    #Print withdrawal amount and balance on selection of 7.\n",
    "\t    elif withdraw == 7:\n",
    "\t        #allow user to enter any amount of their choice but multiples of 10. \n",
    "\t        userinput = int(input(\"\\nEnter another amount. Only multiples of 10 are allowed\"))\n",
    "\t        if userinput % 10 == 0 and userinput < amount: #Checks if user input is multiple of 10 and less than the current amount in user account.\n",
    "\t           print(\"Your have withdrawn £\", userinput, \"\\nYour current balance is\", int(amount - userinput))\n",
    "\t        elif userinput % 10 != 0:\n",
    "\t           print(\"The number your have entered is not a multiple of 10. \\nPlease try again with a multiple of 10\") #Checks if user input is not a multiple of 10 and less than the current amount in user account. \n",
    "\t       \n",
    "\t       \n",
    "\t    #When the withdrawal option selected is 8, user returns to main menu.\n",
    "\t    elif withdraw == 8:\n",
    "\t        print (\"Thank you. \\nWhat else would you like to do?\")\n",
    "\t\n",
    "\t#If the mainoption selected is 3, provide deposit menu and option to enter deposit amount \n",
    "\telif mainoption == 3:\n",
    "\t    #Print deposit menu\n",
    "\t    print(\"\\nDeposit Menu:\")\n",
    "\t    print(\"Enter deposit amount\\n\")\n",
    "\t   \n",
    "\t    #Provide user the option to enter an amount to deposit\n",
    "\t    deposit = int(input(\"Enter the amount you want to deposit\"))\n",
    "\t    \n",
    "\t    #User deposits funds and balance is given and returns user to main option.\n",
    "\t    if deposit != 0:\n",
    "\t        print(\"\\nYou have deposited £\", deposit, \"Your current balance is £\", int(amount + deposit), \"\\n\")\n",
    "\t    elif deposit == 0: #Print a thank you and Return to main menu\n",
    "\t        print(\"\\nThank you. \\nWhat else would you like to do?\")  #Return to main menu\n",
    "\t    else:\n",
    "\t        print(\"\\nThank you. \\nWhat else would you like to do?\")  #Returns to main menu\n",
    "\t\n",
    "\t#17. If '9' is entered, print a goodbye message and exit (break).\n",
    "\telif mainoption == 9:\n",
    "\t      print(\"\\nThank you for using Northern Frock. \\nGoodbye\\n\")\n",
    "\t      break\n",
    "\t\n",
    "\t#18. If another value is entered, print an error message and print the menu again.\n",
    "\telse:\n",
    "\t      print(\"\\nSorry your entered an Invalid Opiton. \\nPlease try again\\n\")\n",
    "\t      break\n"
   ]
  },
  {
   "cell_type": "markdown",
   "metadata": {},
   "source": [
    "## Task 4:\tLists"
   ]
  },
  {
   "cell_type": "code",
   "execution_count": 60,
   "metadata": {},
   "outputs": [
    {
     "name": "stdout",
     "output_type": "stream",
     "text": [
      "Plum\n"
     ]
    }
   ],
   "source": [
    "#1.\tCreates a list of three fruits:\n",
    "\n",
    "fruit = [\"Orange\", \"Plum\", \"Strawberry\"]\n",
    "print(fruit[1])"
   ]
  },
  {
   "cell_type": "code",
   "execution_count": 61,
   "metadata": {},
   "outputs": [
    {
     "name": "stdout",
     "output_type": "stream",
     "text": [
      "{'Blueberry', 'Pear', 'Apricot'}\n",
      "{'Blueberry', 'Pear', 'Orange', 'Apricot'}\n",
      "{'Blueberry', 'Pear', 'Orange', 'Apricot'}\n",
      "{'Blueberry', 'Pear', 'Apricot'}\n"
     ]
    }
   ],
   "source": [
    "#2.\tCreates a set of three fruits:\n",
    "fruits = {\"Pear\", \"Blueberry\", \"Apricot\"}\n",
    "print(fruits) # Outputs all the fruits in the set.\n",
    "\n",
    "fruits.add(\"Orange\") #Adds a new fruit called orange to the set.\n",
    "print(fruits) # Output all fruits in the set.\n",
    "\n",
    "fruits.add(\"Pear\") #Tried to add a repeat of a fruit (Pear) to the set.\n",
    "print(fruits) #  Output the set.\n",
    "\n",
    "fruits.remove(\"Orange\") #Just for fun, remove a fruit from the set.\n",
    "print(fruits) # Output the set"
   ]
  },
  {
   "cell_type": "code",
   "execution_count": 62,
   "metadata": {},
   "outputs": [
    {
     "data": {
      "text/plain": [
       "['apple', 'banana', 'grapes']"
      ]
     },
     "execution_count": 62,
     "metadata": {},
     "output_type": "execute_result"
    }
   ],
   "source": [
    "#3.\tCreates a dictionary of three fruits with a corresponding price:\n",
    "fruit_dictionary = {\n",
    "    \"apple\": \"£3.50\", \n",
    "    \"banana\": \"£2.90\",\n",
    "    \"grapes\": \"£3.95\"\n",
    "    }\n",
    "\n",
    "list(fruit_dictionary.keys()) # Outputs all the fruits in the dictionary"
   ]
  },
  {
   "cell_type": "code",
   "execution_count": 63,
   "metadata": {},
   "outputs": [
    {
     "name": "stdout",
     "output_type": "stream",
     "text": [
      "£2.90\n"
     ]
    }
   ],
   "source": [
    "#Outputs the price of the second fruit in the dictionary\n",
    "print(fruit_dictionary['banana']) "
   ]
  },
  {
   "cell_type": "code",
   "execution_count": 64,
   "metadata": {},
   "outputs": [
    {
     "name": "stdout",
     "output_type": "stream",
     "text": [
      "£3.50\n"
     ]
    }
   ],
   "source": [
    "\n",
    "#For a given fruit output its price if it is the dictionary or a message if it is not\n",
    "#Option 1: Using input to check for fruit existence then output its price\n",
    "\n",
    "fruit = str(input(\"Enter the fruit you would like to know its price\")) #Enter the fruit you would like to know the price for\n",
    "\n",
    "if fruit in fruit_dictionary.keys():\n",
    "    print(fruit_dictionary[fruit])    # Return the result for the fruit entered if fruit exist in the fruit dictionary\n",
    "else:\n",
    "    print(\"This fruit is not available\") # Return fruit unavailable for fruits enter that are not in the fruit dictionary"
   ]
  },
  {
   "cell_type": "code",
   "execution_count": 65,
   "metadata": {},
   "outputs": [
    {
     "name": "stdout",
     "output_type": "stream",
     "text": [
      "£3.50\n",
      "£2.90\n",
      "£3.95\n",
      "Sorry fruit not on the fruit dictionary\n"
     ]
    }
   ],
   "source": [
    "#For a given fruit output its price if it is the dictionary or a message if it is not\n",
    "#Option 2: Using each key to check for the fruit existence price\n",
    "\n",
    "print(fruit_dictionary.get(\"apple\", \"Sorry fruit not on the fruit dictionary\")) # Check for the existence of the fruit apple in the dictionary and print its price.\n",
    "print(fruit_dictionary.get(\"banana\", \"Sorry fruit not on the fruit dictionary\")) # Check for the existence of the fruit banana in the dictionary and print its price.\n",
    "print(fruit_dictionary.get(\"grapes\", \"Sorry fruit not on the fruit dictionary\")) # Check for the existence of the fruit grapes in the dictionary and print its price.\n",
    "print(fruit_dictionary.get(\"cherry\", \"Sorry fruit not on the fruit dictionary\")) # Check for the existence of a fruit not in the dictionary and print its price or message."
   ]
  }
 ],
 "metadata": {
  "kernelspec": {
   "display_name": "Python 3.9.2 64-bit",
   "language": "python",
   "name": "python3"
  },
  "language_info": {
   "codemirror_mode": {
    "name": "ipython",
    "version": 3
   },
   "file_extension": ".py",
   "mimetype": "text/x-python",
   "name": "python",
   "nbconvert_exporter": "python",
   "pygments_lexer": "ipython3",
   "version": "3.9.2"
  },
  "orig_nbformat": 4,
  "vscode": {
   "interpreter": {
    "hash": "425c1cb9f96b02dd326489ac6b96e3042bda6ec4abf5f4b3f4fc167f5a6a6fe0"
   }
  }
 },
 "nbformat": 4,
 "nbformat_minor": 2
}
