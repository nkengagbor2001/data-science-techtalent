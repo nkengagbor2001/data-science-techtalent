{
 "cells": [
  {
   "cell_type": "markdown",
   "metadata": {},
   "source": [
    "## Task 1:\tMotorbike"
   ]
  },
  {
   "cell_type": "code",
   "execution_count": 2,
   "metadata": {},
   "outputs": [
    {
     "name": "stdout",
     "output_type": "stream",
     "text": [
      "year 0 motorbike Value 2000\n",
      "year 1 motorbike Value 1800.0\n",
      "year 2 motorbike Value 1600.0\n",
      "year 3 motorbike Value 1400.0\n",
      "year 4 motorbike Value 1200.0\n"
     ]
    }
   ],
   "source": [
    "'''\n",
    "A motorbike costs £2000 and loses 10% of its value every year. \n",
    "Using a loop, print the value of the bike every following year \n",
    "whilst the value of the bike is greater than £1000.\n",
    "'''\n",
    "year = 0\n",
    "motorbike = 2000\n",
    "loses = (motorbike *10)/100\n",
    "\n",
    "while motorbike > 1000:\n",
    " print(\"year\",year,\"motorbike Value\",motorbike)\n",
    " year = year + 1\n",
    " motorbike = motorbike - loses"
   ]
  },
  {
   "cell_type": "markdown",
   "metadata": {},
   "source": [
    "## Task 2: Fruity Loops"
   ]
  },
  {
   "cell_type": "code",
   "execution_count": 6,
   "metadata": {},
   "outputs": [
    {
     "name": "stdout",
     "output_type": "stream",
     "text": [
      "Count of the vowels is:\n",
      "2\n"
     ]
    }
   ],
   "source": [
    "'''\n",
    "You have been given a contract for the fruit shop, and they are wanting \n",
    "to make a display with names of the fruit written above them. They can order \n",
    "in nice, pretty letters from a crafts supply depot but need to know how many letters to be ordering. \n",
    "'''\n",
    "\n",
    "#Solution 1: Vowels count in fruit name\n",
    "\n",
    "fruit = input(\"Enter your choice of fruit:\")\n",
    "count_vowel = 0\n",
    "vowels = set(\"AEIOUaeiou\")\n",
    "for letter in fruit:\n",
    "    if letter in vowels:\n",
    "        count_vowel += 1\n",
    "print(\"Count of the vowels is:\")\n",
    "print(count_vowel)\n",
    "\n"
   ]
  },
  {
   "cell_type": "code",
   "execution_count": 7,
   "metadata": {},
   "outputs": [
    {
     "name": "stdout",
     "output_type": "stream",
     "text": [
      "Number of vowels in the fruit are:\n",
      "2\n"
     ]
    }
   ],
   "source": [
    "#Solution 2: Vowels count in fruit name\n",
    "fruit = input(\"Enter name of fruit: \")\n",
    "count_vowels = 0\n",
    "for i in fruit:\n",
    "    if(i=='a' or i=='e' or i=='i' or i=='o' or i=='u' or i=='A' or i=='E' or i=='I' or i=='O' or i=='U'):\n",
    "            count_vowels  = count_vowels+1\n",
    "print(\"Number of vowels in the fruit are:\")\n",
    "print(count_vowels)"
   ]
  },
  {
   "cell_type": "markdown",
   "metadata": {},
   "source": [
    "## Task 3: Volume"
   ]
  },
  {
   "cell_type": "code",
   "execution_count": 5,
   "metadata": {},
   "outputs": [
    {
     "name": "stdout",
     "output_type": "stream",
     "text": [
      "Box width: w = 10.0\n",
      "Box depth: d = 20.0\n",
      "Box height: h = 30.0\n",
      "\n",
      "Hence, the volume of the box is: width x depth x height = 6000.0\n"
     ]
    }
   ],
   "source": [
    "## Write a program that includes a procedure to multiply 3 numbers together and outputs the result. \n",
    "# Python program to find the\n",
    "# Volume of a box\n",
    "\n",
    "\n",
    "import math\n",
    "\n",
    "\n",
    "# Function to find the\n",
    "# Volume of the box\n",
    "\n",
    "def find_volume(w, d, h):\n",
    "\t\n",
    "\t# Formula to calculate\n",
    "\t# Volume = (w * d * h), for a rectangular solid or Cuboid\n",
    "\tVolume = (w * d * h)\n",
    "\t\n",
    "\t# Display volume\n",
    "\tprint(\"Box width: w =\", w )\n",
    "\tprint(\"Box depth: d =\", d )\n",
    "\tprint(\"Box height: h =\", h )\n",
    "\tprint(\"\\nHence, the volume of the box is: width x depth x height =\", Volume)\n",
    "\n",
    "\t\n",
    "# Request user to input value for width, depth and height of box.\n",
    "w = float(input(\"Enter box width\"))\n",
    "d = float(input(\"Enter box depth\"))\n",
    "h = float(input(\"Enter box height\"))\n",
    "\n",
    "\n",
    "# Volume Procedure calling\n",
    "# Procedure initiated for volume function (Or call volume function)\n",
    "find_volume(w, d, h)"
   ]
  },
  {
   "cell_type": "markdown",
   "metadata": {},
   "source": [
    "## Task 4:\tPythagoras"
   ]
  },
  {
   "cell_type": "code",
   "execution_count": 1,
   "metadata": {},
   "outputs": [
    {
     "name": "stdout",
     "output_type": "stream",
     "text": [
      "\n",
      "Menu Options:\n",
      "    1 - Find the length of a given b and c\n",
      "    2 - Find the length of b given a and c\n",
      "    3 - Find the length of c given a and b\n",
      "    9 - Exit\n",
      "The length of side a is 22.360679774997898\n",
      "\n",
      "Menu Options:\n",
      "    1 - Find the length of a given b and c\n",
      "    2 - Find the length of b given a and c\n",
      "    3 - Find the length of c given a and b\n",
      "    9 - Exit\n",
      "The length of side b is 28.284271247461902\n",
      "\n",
      "Menu Options:\n",
      "    1 - Find the length of a given b and c\n",
      "    2 - Find the length of b given a and c\n",
      "    3 - Find the length of c given a and b\n",
      "    9 - Exit\n",
      "The length of side b is 17.320508075688775\n",
      "\n",
      "Menu Options:\n",
      "    1 - Find the length of a given b and c\n",
      "    2 - Find the length of b given a and c\n",
      "    3 - Find the length of c given a and b\n",
      "    9 - Exit\n",
      "\n",
      "Thank for using this Pythagoras calculator. \n",
      "Good bye\n",
      "\n",
      "Goodbye and thanks for using pythagoras calculator.\n"
     ]
    }
   ],
   "source": [
    "'''\n",
    "Write a program that calculates the lengths of sides of a triangle using Pythagoras’s Theorem.  \n",
    "Pythagoras’ Theorem states that the square of the long side (c) of a right-angled triangle is the \n",
    "sum of the squares of the two shorter sides (a and b). c**2 = a**2 + b**2\n",
    "'''\n",
    "# Pythagoras Theorem solution option 1 with a menu as require in the assignment.\n",
    "\n",
    "import math\n",
    "\n",
    "#Displaying a menu option to user and prompting the user to pick one\n",
    "def pythagoras():\n",
    "    \n",
    "    # Helper functions\n",
    "    def display_menu():\n",
    "        print(\"\"\"\\nMenu Options:\n",
    "    1 - Find the length of a given b and c\n",
    "    2 - Find the length of b given a and c\n",
    "    3 - Find the length of c given a and b\n",
    "    9 - Exit\"\"\")\n",
    "    \n",
    "    # Find side a function\n",
    "    def find_side_a():\n",
    "        b = float(input(\"Enter the length of side b: \"))\n",
    "        c = float(input(\"Enter the length of side c, the hypotenuse: \"))\n",
    "        a = math.sqrt(c ** 2 - b ** 2)\n",
    "        print(f\"The length of side a is {a}\")\n",
    "    \n",
    "    # Find side b function\n",
    "    def find_side_b():\n",
    "        a = float(input(\"Enter the length of side a: \"))\n",
    "        c = float(input(\"Enter the length of side c, the hypotenuse:: \"))\n",
    "        b = math.sqrt(c ** 2 - a ** 2)\n",
    "        print(f\"The length of side b is {b}\")\n",
    "\n",
    "    # Find side b function\n",
    "    def find_side_c():\n",
    "        a = float(input(\"Enter the length of side a: \"))\n",
    "        b = float(input(\"Enter the length of side b: \"))\n",
    "        c = math.sqrt(a ** 2 + b ** 2)\n",
    "        print(f\"The length of the hypotenuse c is {c}\")\n",
    "\n",
    "\n",
    "    \n",
    "    # Variables\n",
    "    finished = False\n",
    "    \n",
    "    while True:\n",
    "        display_menu()\n",
    "        option = input(\"Please enter an option (1,2,3 or 9)? \")\n",
    "\n",
    "        if option == \"1\":\n",
    "            find_side_a()\n",
    "            \n",
    "        elif option == \"2\":\n",
    "            find_side_b()\n",
    "\n",
    "        elif option == \"3\":\n",
    "            find_side_c()\n",
    "            \n",
    "        elif option == \"9\":\n",
    "            print(\"\\nThank for using this Pythagoras calculator. \\nGood bye\")\n",
    "            finished = True\n",
    "        else:\n",
    "            print(\"\\nInvalid option, please try again.\")\n",
    "            \n",
    "\n",
    "        # Loop control variable\n",
    "        if finished:\n",
    "            print(\"\\nGoodbye and thanks for using pythagoras calculator.\")\n",
    "            break\n",
    "\n",
    "pythagoras()\n",
    " \n",
    "    "
   ]
  },
  {
   "cell_type": "code",
   "execution_count": 8,
   "metadata": {},
   "outputs": [
    {
     "name": "stdout",
     "output_type": "stream",
     "text": [
      "The length of the side a is 22.360679774997898\n"
     ]
    }
   ],
   "source": [
    "# Pythagoras theorem solution option 2 without a menu.\n",
    "\n",
    "import math\n",
    "\n",
    "\n",
    "# Prompt user to input the side they would like to find.\n",
    "side = input(\"Give the side you want to solve for (a, b, or c): \")\n",
    "\n",
    "# Find side a, using value inputs for side b and c\n",
    "if side == \"a\":\n",
    "    b = float(input(\"Give side b: \"))\n",
    "    c = float(input(\"Give hypotenuse c: \"))\n",
    "    a = math.sqrt(c ** 2 - b ** 2)\n",
    "    print(f\"The length of the side a is {a}\")\n",
    "\n",
    "# Find side b using value inputs for side a and c    \n",
    "elif side == \"b\":\n",
    "    a = float(input(\"Give side a: \"))\n",
    "    c = float(input(\"Give hypotenuse c: \"))\n",
    "    b = math.sqrt(c ** 2 - a ** 2)\n",
    "    print(f\"The length of the side b is {b}\")\n",
    "# Find side c using value inputs for side a and c.\n",
    "elif side == \"c\":\n",
    "    a = float(input(\"Give side a: \"))\n",
    "    b = float(input(\"Give side b: \"))\n",
    "    c = math.sqrt(a ** 2 + b ** 2)\n",
    "    print(f\"The length of the hypotenuse c is {c}\")\n",
    "# invalid value entry\n",
    "else:\n",
    "    print(\"Invalid input\")"
   ]
  }
 ],
 "metadata": {
  "kernelspec": {
   "display_name": "Python 3.10.6 64-bit",
   "language": "python",
   "name": "python3"
  },
  "language_info": {
   "codemirror_mode": {
    "name": "ipython",
    "version": 3
   },
   "file_extension": ".py",
   "mimetype": "text/x-python",
   "name": "python",
   "nbconvert_exporter": "python",
   "pygments_lexer": "ipython3",
   "version": "3.10.6"
  },
  "orig_nbformat": 4,
  "vscode": {
   "interpreter": {
    "hash": "0dc75d5386c1c577a918647459b2c5f77d05fad1c3065f89b6d0b6bd0996f76f"
   }
  }
 },
 "nbformat": 4,
 "nbformat_minor": 2
}
