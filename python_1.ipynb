{
 "cells": [
  {
   "cell_type": "markdown",
   "metadata": {},
   "source": [
    "## Python 1 (Week 4 Assignment)"
   ]
  },
  {
   "cell_type": "markdown",
   "metadata": {},
   "source": [
    "## Task 1: Favourite Meal"
   ]
  },
  {
   "cell_type": "code",
   "execution_count": 77,
   "metadata": {},
   "outputs": [
    {
     "name": "stdout",
     "output_type": "stream",
     "text": [
      "baquel\n",
      "Rice and Stew\n",
      "Ice Cream\n",
      "baquel, Rice and Stew, and Ice Cream\n",
      "Fanta\n"
     ]
    }
   ],
   "source": [
    "# 1. Create 4 variables, one named starter, \n",
    "# one named main, one named dessert and one named drink.\n",
    "\n",
    "starter = input(\"What is your favourite starter\")\n",
    "main_course = input(\"Please, enter your main course\")\n",
    "dessert = input(\"What would you like to have as dessert\")\n",
    "meal = starter + \",\" + \" \" + main_course + \",\" + \" \" + \"and\" + \" \" + dessert\n",
    "drink = input(\"Please name your drink\")\n",
    "\n",
    "print(starter)\n",
    "print(main_course)\n",
    "print(dessert)\n",
    "print(meal)\n",
    "print(drink)"
   ]
  },
  {
   "cell_type": "code",
   "execution_count": 78,
   "metadata": {},
   "outputs": [
    {
     "name": "stdout",
     "output_type": "stream",
     "text": [
      "Your favourite meal is baquel, Rice and Stew, and Ice Cream with a glass of Fanta\n"
     ]
    }
   ],
   "source": [
    "# 2. Concatenate these into the output message using + to combine the strings\n",
    "\n",
    "print(\"Your favourite meal is\", meal, \"with a glass of\", drink) \n"
   ]
  },
  {
   "cell_type": "markdown",
   "metadata": {},
   "source": [
    "## Task 2: Calculations"
   ]
  },
  {
   "cell_type": "code",
   "execution_count": 79,
   "metadata": {},
   "outputs": [
    {
     "name": "stdout",
     "output_type": "stream",
     "text": [
      "15\n"
     ]
    }
   ],
   "source": [
    "#1) Takes two numbers from user and outputs a subtraction\n",
    "\n",
    "user_entry_1 = int(input(\"Enter any number between 0 and 20:\"))\n",
    "user_entry_2 = int(input(\"Enter any number between 30 and 40:\"))\n",
    "print(user_entry_2 - user_entry_1)"
   ]
  },
  {
   "cell_type": "code",
   "execution_count": 80,
   "metadata": {},
   "outputs": [
    {
     "name": "stdout",
     "output_type": "stream",
     "text": [
      "684\n"
     ]
    }
   ],
   "source": [
    "#2) Takes two numbers from user and outputs a multiplication\n",
    "user_entry_3 = int(input(\"Enter any number between 0 and 20:\"))\n",
    "user_entry_4 = int(input(\"Enter any number between 30 and 40:\"))\n",
    "print(user_entry_3 * user_entry_4)"
   ]
  },
  {
   "cell_type": "code",
   "execution_count": 82,
   "metadata": {},
   "outputs": [
    {
     "name": "stdout",
     "output_type": "stream",
     "text": [
      "2.0\n"
     ]
    }
   ],
   "source": [
    "#3) Takes two numbers from user and outputs a division\n",
    "user_entry_5 = int(input(\"Enter any number between 0 and 20:\"))\n",
    "user_entry_6 = int(input(\"Enter any number between 30 and 40:\"))\n",
    "print(user_entry_6 / user_entry_5)"
   ]
  },
  {
   "cell_type": "markdown",
   "metadata": {},
   "source": [
    "## Task 3: Joke"
   ]
  },
  {
   "cell_type": "code",
   "execution_count": 23,
   "metadata": {},
   "outputs": [
    {
     "name": "stdout",
     "output_type": "stream",
     "text": [
      "What do you call a bear with no teeth?\n",
      "A gummy bear!\n"
     ]
    }
   ],
   "source": [
    "#1. Create a variable name to store the joke against.\n",
    "\n",
    "joke_question = \"What do you call a bear with no teeth?\" \n",
    "joke_answer = \"A gummy bear!\"\n",
    "print(joke_question)\n",
    "print(joke_answer)"
   ]
  },
  {
   "cell_type": "code",
   "execution_count": 25,
   "metadata": {},
   "outputs": [
    {
     "name": "stdout",
     "output_type": "stream",
     "text": [
      "What do you call a bear with no teeth? \n",
      "A gummy bear!\n"
     ]
    }
   ],
   "source": [
    "#1. 2.\tUse \\n to separate the code into the joke and the punch line.\n",
    "joke_question_answer = \"What do you call a bear with no teeth? \\nA gummy bear!\"\n",
    "print(joke_question_answer)"
   ]
  },
  {
   "cell_type": "markdown",
   "metadata": {},
   "source": [
    "## Task 4:\tCasting"
   ]
  },
  {
   "cell_type": "code",
   "execution_count": 74,
   "metadata": {},
   "outputs": [
    {
     "name": "stdout",
     "output_type": "stream",
     "text": [
      "20\n",
      "35\n"
     ]
    }
   ],
   "source": [
    "#1.\tCreate 2 variables which put the user to input a number.\n",
    "user_input_1 = int(input(\"Enter any number of your choice\"))\n",
    "user_input_2 = int(input(\"Enter a second number of your choice\"))\n",
    "print(user_input_1)\n",
    "print(user_input_2)"
   ]
  },
  {
   "cell_type": "code",
   "execution_count": 75,
   "metadata": {},
   "outputs": [
    {
     "name": "stdout",
     "output_type": "stream",
     "text": [
      "700\n"
     ]
    }
   ],
   "source": [
    "#2.\tMultiple these numbers together and print the answer.\n",
    "user_multiplication = user_input_1 * user_input_2\n",
    "print(user_multiplication)"
   ]
  },
  {
   "cell_type": "code",
   "execution_count": 76,
   "metadata": {},
   "outputs": [
    {
     "name": "stdout",
     "output_type": "stream",
     "text": [
      "700\n",
      "700.0\n"
     ]
    }
   ],
   "source": [
    "#3.\tUsing int() and float() print the answer as an integer and float  \n",
    "x = int(user_multiplication)\n",
    "y = float(user_multiplication)\n",
    "print(x)\n",
    "print(y)"
   ]
  },
  {
   "cell_type": "markdown",
   "metadata": {},
   "source": [
    "## Task 5:\tString modification"
   ]
  },
  {
   "cell_type": "code",
   "execution_count": 70,
   "metadata": {},
   "outputs": [
    {
     "name": "stdout",
     "output_type": "stream",
     "text": [
      "Python is a cool programming language!\n"
     ]
    }
   ],
   "source": [
    "#1.\tCreate a string and store it against a variable name\n",
    "a = \"Python is a cool programming language!\"\n",
    "print(a)"
   ]
  },
  {
   "cell_type": "code",
   "execution_count": 69,
   "metadata": {},
   "outputs": [
    {
     "name": "stdout",
     "output_type": "stream",
     "text": [
      "SQL is a cool query language!\n"
     ]
    }
   ],
   "source": [
    "#2.\tUse replace(), upper() and split to modify your string\n",
    "#Use replace()\n",
    "\n",
    "print(a.replace(\"Python\", \"SQL\").replace(\"programming\", \"query\"))\n"
   ]
  },
  {
   "cell_type": "code",
   "execution_count": 68,
   "metadata": {},
   "outputs": [
    {
     "name": "stdout",
     "output_type": "stream",
     "text": [
      "PYTHON IS A COOL PROGRAMMING LANGUAGE!\n"
     ]
    }
   ],
   "source": [
    "#Use upper()\n",
    "print(a.upper())"
   ]
  },
  {
   "cell_type": "code",
   "execution_count": 67,
   "metadata": {},
   "outputs": [
    {
     "name": "stdout",
     "output_type": "stream",
     "text": [
      "['Python', 'is', 'a', 'cool', 'programming', 'language!']\n"
     ]
    }
   ],
   "source": [
    "#Use split() to split every word within the string\n",
    "print(a.split())"
   ]
  },
  {
   "cell_type": "code",
   "execution_count": 66,
   "metadata": {},
   "outputs": [
    {
     "data": {
      "text/plain": [
       "38"
      ]
     },
     "execution_count": 66,
     "metadata": {},
     "output_type": "execute_result"
    }
   ],
   "source": [
    "#To use split() differently check the length of the string\n",
    "len(a)"
   ]
  },
  {
   "cell_type": "code",
   "execution_count": 65,
   "metadata": {},
   "outputs": [
    {
     "name": "stdout",
     "output_type": "stream",
     "text": [
      "['Python', 'is a cool programming language!']\n"
     ]
    }
   ],
   "source": [
    "#Use split() to split the string at a particular position, in the case the first spacing\n",
    "print(a.split(\" \", 1))"
   ]
  },
  {
   "cell_type": "markdown",
   "metadata": {},
   "source": [
    "## Stretch and Challenge"
   ]
  },
  {
   "cell_type": "code",
   "execution_count": 64,
   "metadata": {},
   "outputs": [
    {
     "name": "stdout",
     "output_type": "stream",
     "text": [
      "Each person will have to pay 32.0 pounds\n"
     ]
    }
   ],
   "source": [
    "'''\n",
    "Task_01 \n",
    "Ask for the total price of a bill, then ask how many dinners there are. \n",
    "Divide the total bill by the number of diners and show how much each person should pay.\n",
    "'''\n",
    "\n",
    "total_bill = int(input(\"What is the total price of your bill?\")) #I enter 320\n",
    "number_of_dinner = int(input(\"Enter the number of dinner?\")) #10 dinners selected\n",
    "bill_per_person = total_bill/number_of_dinner\n",
    "print(\"Each person will have to pay\", float(bill_per_person), \"pounds\")"
   ]
  },
  {
   "cell_type": "code",
   "execution_count": 63,
   "metadata": {},
   "outputs": [
    {
     "name": "stdout",
     "output_type": "stream",
     "text": [
      "4712.389\n",
      "785.398\n"
     ]
    }
   ],
   "source": [
    "'''\n",
    "Ask for the radius and the depth of a cylinder and work out the \n",
    "total volume (circle area*depth) rounded to three decimal places. \n",
    "(You will need to import the math library and look up the function for rounding decimals)\n",
    "'''\n",
    "\n",
    "\n",
    "\n",
    "from math import pi\n",
    "\n",
    "\n",
    "cylinder_radius = int(input(\"Enter the radius of a cylinder\"))\n",
    "cylinder_depth = int(input(\"Enter the depth of a cylinder\"))\n",
    "cylinder_total_surface_area = 2 * pi * cylinder_radius * (cylinder_depth + cylinder_radius)   #Formula for cylinder area is A = 2πr(h + r)\n",
    "cylinder_volume =  cylinder_total_surface_area * cylinder_depth #volume calculated with formula circle area*depth\n",
    "cylinder_volume_1 = pi * cylinder_radius * cylinder_radius * cylinder_depth #I think the volume of a cylinder is πr^2h\n",
    "print(round(cylinder_volume, 3)) #Print from your given formular (enter radius=5, depth=10)\n",
    "print(round(cylinder_volume_1, 3)) #Print from volume of a cylinder = πr^2h (enter radius=5, depth=10)"
   ]
  }
 ],
 "metadata": {
  "kernelspec": {
   "display_name": "Python 3.9.2 64-bit",
   "language": "python",
   "name": "python3"
  },
  "language_info": {
   "codemirror_mode": {
    "name": "ipython",
    "version": 3
   },
   "file_extension": ".py",
   "mimetype": "text/x-python",
   "name": "python",
   "nbconvert_exporter": "python",
   "pygments_lexer": "ipython3",
   "version": "3.9.2"
  },
  "orig_nbformat": 4,
  "vscode": {
   "interpreter": {
    "hash": "425c1cb9f96b02dd326489ac6b96e3042bda6ec4abf5f4b3f4fc167f5a6a6fe0"
   }
  }
 },
 "nbformat": 4,
 "nbformat_minor": 2
}
